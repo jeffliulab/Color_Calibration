{
 "cells": [
  {
   "cell_type": "code",
   "execution_count": null,
   "metadata": {
    "vscode": {
     "languageId": "plaintext"
    }
   },
   "outputs": [],
   "source": [
    "import pandas as pd\n",
    "import numpy as np\n",
    "from sklearn.ensemble import RandomForestRegressor\n",
    "from sklearn.model_selection import train_test_split\n",
    "from sklearn.metrics import mean_squared_error\n",
    "\n",
    "def parse_rgb(rgb_str):\n",
    "    \"\"\"解析字符串形式的RGB值为数值列表\"\"\"\n",
    "    return list(map(int, rgb_str.strip(\"()\").split(\", \")))\n",
    "\n",
    "# 读取数据\n",
    "data = pd.read_csv(\"data.csv\")\n",
    "\n",
    "# 解析 RGB 作为特征\n",
    "for col in [\"black_box\", \"red_circle\", \"green_triangle\", \"blue_pentagon\", \"real_rgb\"]:\n",
    "    data[[f\"{col}_R\", f\"{col}_G\", f\"{col}_B\"]] = data[col].apply(parse_rgb).tolist()\n",
    "\n",
    "# 删除原始字符串列和无用的列\n",
    "data = data.drop(columns=[\"black_box\", \"red_circle\", \"green_triangle\", \"blue_pentagon\", \"real_rgb\", \"color_code\", \"unique_id\"])\n",
    "\n",
    "# 分割特征和目标变量\n",
    "X = data.drop(columns=[\"real_rgb_R\", \"real_rgb_G\", \"real_rgb_B\"])\n",
    "y = data[[\"real_rgb_R\", \"real_rgb_G\", \"real_rgb_B\"]]\n",
    "\n",
    "# 划分训练集和测试集\n",
    "X_train, X_test, y_train, y_test = train_test_split(X, y, test_size=0.3, random_state=42)\n",
    "\n",
    "# 训练 Random Forest 回归模型\n",
    "rf_model = RandomForestRegressor(n_estimators=100, random_state=42)\n",
    "rf_model.fit(X_train, y_train)\n",
    "\n",
    "# 预测\n",
    "y_pred = rf_model.predict(X_test)\n",
    "\n",
    "# 计算误差\n",
    "mse = mean_squared_error(y_test, y_pred, multioutput='raw_values')\n",
    "print(f\"MSE (R, G, B): {mse}\")\n"
   ]
  }
 ],
 "metadata": {
  "language_info": {
   "name": "python"
  }
 },
 "nbformat": 4,
 "nbformat_minor": 2
}
